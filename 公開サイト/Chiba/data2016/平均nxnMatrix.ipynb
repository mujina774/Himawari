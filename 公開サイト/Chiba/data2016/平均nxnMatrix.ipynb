{
 "cells": [
  {
   "cell_type": "code",
   "execution_count": 1,
   "id": "5b15e373-0c6a-4f3a-9c22-0cf4a8a31857",
   "metadata": {},
   "outputs": [],
   "source": [
    "import numpy as np"
   ]
  },
  {
   "cell_type": "code",
   "execution_count": 4,
   "id": "d8af53de-fa28-4cc6-80bf-c0aefe4b7a31",
   "metadata": {},
   "outputs": [
    {
     "data": {
      "text/plain": [
       "array([[ 0,  1,  2,  3,  4,  5,  6,  7],\n",
       "       [ 8,  9, 10, 11, 12, 13, 14, 15],\n",
       "       [16, 17, 18, 19, 20, 21, 22, 23],\n",
       "       [24, 25, 26, 27, 28, 29, 30, 31],\n",
       "       [32, 33, 34, 35, 36, 37, 38, 39],\n",
       "       [40, 41, 42, 43, 44, 45, 46, 47],\n",
       "       [48, 49, 50, 51, 52, 53, 54, 55],\n",
       "       [56, 57, 58, 59, 60, 61, 62, 63]])"
      ]
     },
     "execution_count": 4,
     "metadata": {},
     "output_type": "execute_result"
    }
   ],
   "source": [
    "ar = np.arange(64).reshape(8,8)\n",
    "ar"
   ]
  },
  {
   "cell_type": "code",
   "execution_count": 11,
   "id": "9572de28-2676-4589-a568-6c867216c323",
   "metadata": {},
   "outputs": [
    {
     "data": {
      "text/plain": [
       "array([[[[ 0,  1],\n",
       "         [ 2,  3],\n",
       "         [ 4,  5],\n",
       "         [ 6,  7]],\n",
       "\n",
       "        [[ 8,  9],\n",
       "         [10, 11],\n",
       "         [12, 13],\n",
       "         [14, 15]]],\n",
       "\n",
       "\n",
       "       [[[16, 17],\n",
       "         [18, 19],\n",
       "         [20, 21],\n",
       "         [22, 23]],\n",
       "\n",
       "        [[24, 25],\n",
       "         [26, 27],\n",
       "         [28, 29],\n",
       "         [30, 31]]],\n",
       "\n",
       "\n",
       "       [[[32, 33],\n",
       "         [34, 35],\n",
       "         [36, 37],\n",
       "         [38, 39]],\n",
       "\n",
       "        [[40, 41],\n",
       "         [42, 43],\n",
       "         [44, 45],\n",
       "         [46, 47]]],\n",
       "\n",
       "\n",
       "       [[[48, 49],\n",
       "         [50, 51],\n",
       "         [52, 53],\n",
       "         [54, 55]],\n",
       "\n",
       "        [[56, 57],\n",
       "         [58, 59],\n",
       "         [60, 61],\n",
       "         [62, 63]]]])"
      ]
     },
     "execution_count": 11,
     "metadata": {},
     "output_type": "execute_result"
    }
   ],
   "source": [
    "ar = np.arange(64).reshape(4,2,4,2)\n",
    "ar"
   ]
  },
  {
   "cell_type": "code",
   "execution_count": 12,
   "id": "7c6a81b2-e585-401d-a186-2e63eb3feefb",
   "metadata": {},
   "outputs": [
    {
     "data": {
      "text/plain": [
       "array([[[ 0.5,  2.5,  4.5,  6.5],\n",
       "        [ 8.5, 10.5, 12.5, 14.5]],\n",
       "\n",
       "       [[16.5, 18.5, 20.5, 22.5],\n",
       "        [24.5, 26.5, 28.5, 30.5]],\n",
       "\n",
       "       [[32.5, 34.5, 36.5, 38.5],\n",
       "        [40.5, 42.5, 44.5, 46.5]],\n",
       "\n",
       "       [[48.5, 50.5, 52.5, 54.5],\n",
       "        [56.5, 58.5, 60.5, 62.5]]])"
      ]
     },
     "execution_count": 12,
     "metadata": {},
     "output_type": "execute_result"
    }
   ],
   "source": [
    "ar = np.arange(64).reshape(4,2,4,2).mean(-1)\n",
    "ar"
   ]
  },
  {
   "cell_type": "code",
   "execution_count": 13,
   "id": "817f8e8f-7c00-4212-b6db-257853990004",
   "metadata": {},
   "outputs": [
    {
     "data": {
      "text/plain": [
       "array([[ 4.5,  6.5,  8.5, 10.5],\n",
       "       [20.5, 22.5, 24.5, 26.5],\n",
       "       [36.5, 38.5, 40.5, 42.5],\n",
       "       [52.5, 54.5, 56.5, 58.5]])"
      ]
     },
     "execution_count": 13,
     "metadata": {},
     "output_type": "execute_result"
    }
   ],
   "source": [
    "ar = np.arange(64).reshape(4,2,4,2).mean(-1).mean(1)\n",
    "ar"
   ]
  },
  {
   "cell_type": "code",
   "execution_count": 15,
   "id": "c41b29f5-bb55-4bc6-93ac-2758714554a6",
   "metadata": {},
   "outputs": [
    {
     "data": {
      "text/plain": [
       "array([[ 5,  7,  9, 11],\n",
       "       [21, 23, 25, 27],\n",
       "       [37, 39, 41, 43],\n",
       "       [53, 55, 57, 59]], dtype=uint16)"
      ]
     },
     "execution_count": 15,
     "metadata": {},
     "output_type": "execute_result"
    }
   ],
   "source": [
    "ar = (np.arange(64).reshape(4, 2, 4, 2).mean(-1).mean(1) + 0.5).astype('u2')\n",
    "ar"
   ]
  },
  {
   "cell_type": "code",
   "execution_count": 16,
   "id": "ee2e81a0-f322-4b31-b698-dc0ba74c31a3",
   "metadata": {},
   "outputs": [
    {
     "data": {
      "text/plain": [
       "array([[[[ 0,  1,  2,  3],\n",
       "         [ 4,  5,  6,  7]],\n",
       "\n",
       "        [[ 8,  9, 10, 11],\n",
       "         [12, 13, 14, 15]],\n",
       "\n",
       "        [[16, 17, 18, 19],\n",
       "         [20, 21, 22, 23]],\n",
       "\n",
       "        [[24, 25, 26, 27],\n",
       "         [28, 29, 30, 31]]],\n",
       "\n",
       "\n",
       "       [[[32, 33, 34, 35],\n",
       "         [36, 37, 38, 39]],\n",
       "\n",
       "        [[40, 41, 42, 43],\n",
       "         [44, 45, 46, 47]],\n",
       "\n",
       "        [[48, 49, 50, 51],\n",
       "         [52, 53, 54, 55]],\n",
       "\n",
       "        [[56, 57, 58, 59],\n",
       "         [60, 61, 62, 63]]]])"
      ]
     },
     "execution_count": 16,
     "metadata": {},
     "output_type": "execute_result"
    }
   ],
   "source": [
    "ar = np.arange(64).reshape(2,4,2,4)\n",
    "ar"
   ]
  },
  {
   "cell_type": "code",
   "execution_count": 17,
   "id": "71121279-5677-4502-b680-9dade41c3587",
   "metadata": {},
   "outputs": [
    {
     "data": {
      "text/plain": [
       "array([[[ 1.5,  5.5],\n",
       "        [ 9.5, 13.5],\n",
       "        [17.5, 21.5],\n",
       "        [25.5, 29.5]],\n",
       "\n",
       "       [[33.5, 37.5],\n",
       "        [41.5, 45.5],\n",
       "        [49.5, 53.5],\n",
       "        [57.5, 61.5]]])"
      ]
     },
     "execution_count": 17,
     "metadata": {},
     "output_type": "execute_result"
    }
   ],
   "source": [
    "ar = np.arange(64).reshape(2,4,2,4).mean(-1)\n",
    "ar"
   ]
  },
  {
   "cell_type": "code",
   "execution_count": 18,
   "id": "e87472de-5bff-4e50-89e6-a13c1559b20b",
   "metadata": {},
   "outputs": [
    {
     "data": {
      "text/plain": [
       "array([[13.5, 17.5],\n",
       "       [45.5, 49.5]])"
      ]
     },
     "execution_count": 18,
     "metadata": {},
     "output_type": "execute_result"
    }
   ],
   "source": [
    "ar = np.arange(64).reshape(2,4,2,4).mean(-1).mean(1)\n",
    "ar"
   ]
  }
 ],
 "metadata": {
  "kernelspec": {
   "display_name": "Python 3 (ipykernel)",
   "language": "python",
   "name": "python3"
  },
  "language_info": {
   "codemirror_mode": {
    "name": "ipython",
    "version": 3
   },
   "file_extension": ".py",
   "mimetype": "text/x-python",
   "name": "python",
   "nbconvert_exporter": "python",
   "pygments_lexer": "ipython3",
   "version": "3.12.2"
  }
 },
 "nbformat": 4,
 "nbformat_minor": 5
}
